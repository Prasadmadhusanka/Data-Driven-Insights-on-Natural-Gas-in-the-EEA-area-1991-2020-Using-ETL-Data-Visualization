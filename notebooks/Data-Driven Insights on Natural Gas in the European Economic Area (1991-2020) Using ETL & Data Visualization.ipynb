{
 "cells": [
  {
   "cell_type": "markdown",
   "metadata": {},
   "source": [
    "# **Data-Driven Insights on Natural Gas in the European Economic Area (1991-2020) Using ETL & Data Visualization with Pandas, Seaborn, Plotly, and Dash**"
   ]
  },
  {
   "cell_type": "markdown",
   "metadata": {},
   "source": [
    "### **Abstract**"
   ]
  },
  {
   "cell_type": "markdown",
   "metadata": {},
   "source": [
    "In recent years, natural gas has become one of the major energy sources in Europe. As Russia is the largest natural gas supplier to EU countries, the ongoing war between Russia and Ukraine has significantly impacted the EU’s natural gas supply. In such a complex situation, finding solutions to meet Europe’s natural gas demand is crucial.\n",
    "This data analysis aims to address this issue by examining natural gas consumption, production, imports, exports, and reserves in EEA countries from 1991 to 2020 using Pandas in Python. The study utilizes data from the U.S. Energy Information Administration, which is processed through an ETL workflow involving data extraction, cleaning, grouping, aggregation, merging, and the creation of geodataframes using Pandas and GeoPandas to incorporate spatial components.\n",
    "Subsequently, various analytical operations are performed, including statistical computations, static visualizations with Seaborn, spatial operations, and interactive mapping using Plotly. Additionally, a dashboard is developed with Dash to provide a comprehensive visualization of the findings.\n",
    "The study reveals that Norway and the Netherlands have sufficient natural gas reserves. However, due to high exports, lower production, and significant reliance on imports, countries such as Austria, Belgium, Czechia, France, Greece, Portugal, Spain, and Sweden face a high risk of a natural gas energy crisis in the near future.\n"
   ]
  },
  {
   "cell_type": "markdown",
   "metadata": {},
   "source": [
    "### **Key Words**"
   ]
  },
  {
   "cell_type": "markdown",
   "metadata": {},
   "source": [
    "*`Natural Gas`    `Data Analysis`    `EEA`    `Energy`    `ETL Workflow`    `Data Visualization`    `Pandas`    `GeoPandas`    `Seaborn`    `Plotly`    `Dash`*\n"
   ]
  },
  {
   "cell_type": "markdown",
   "metadata": {},
   "source": [
    "### **Overview**"
   ]
  },
  {
   "cell_type": "markdown",
   "metadata": {},
   "source": [
    "Natural gas, along with coal, sulfur, and petroleum, is a fossil fuel that is cheaper to produce, burns cleaner, and is more environmentally friendly than others. It is considered the \"bridge fuel\" in the transition to greener, renewable energy sources. Many countries produce, consume, and possess natural gas reserves.\n",
    "\n",
    "In Europe, natural gas is vital, heating half of European households and powering much of its industry. [link](https://energy.ec.europa.eu/topics/oil-gas-and-coal/liquefied-natural-gas_en) . It accounts for a quarter of the EU's total energy consumption, with significant portions used in power generation (26%) and industry (23%). However, due to the current energy crisis and reduced domestic gas production, the EU is working to diversify its gas supply and accelerate renewable energy adoption.\n",
    "\n",
    "As of 2021, the EU imported 83% of its natural gas, with pipeline imports dominated by Russia. Since the invasion of Ukraine, gas imports from Russia have decreased significantly. Between January and September 2022, the three largest LNG exporters to the EU were the United States (44%), Russia (17%), and Qatar (13%). Norway has also become a leading natural gas supplier to Europe. [link](https://www.consilium.europa.eu/en/infographics/eu-gas-supply/)\n",
    "\n",
    "Therefore the war in Ukraine has created risks for Europe’s energy supply and in other side Norway also being currently the most leading natural gas supplier in the Europe. [link](https://www.washingtonpost.com/world/2022/10/08/norway-gas-prices-supply-europe/) This study aims to analysis annual natural gas consumption, production, reserves, import and export in the Europe mainly focusing in the countries within the European Economic Area [(EEA)](https://www.efta.int/eea) during last 30 years (1991 to 2020).\n"
   ]
  },
  {
   "cell_type": "markdown",
   "metadata": {},
   "source": [
    "### **Objectives**"
   ]
  },
  {
   "cell_type": "markdown",
   "metadata": {},
   "source": [
    "**The main objective of this Data analysis and Data Visulization -**\n",
    "- To identify the patterns of Annual natural gas consumption, production, reserves, imports and exports for EEA countries.\n",
    "- To find out the EEA countries which having the suffiecient natural gas reserves to processing and best natural gas exporters.\n",
    "- To find out the EEA countries which mainly depend on importing natual gas.\n",
    "- To identify the EEA countries which will be faced to natural gas crisis in near future due to Russia-Ukraine war by considering their annual consumption, production, reserves, import and export over the past 30 years.\n",
    "- To generate tools for making varias types of maps/ plots/ Dashboard from python programs."
   ]
  },
  {
   "cell_type": "markdown",
   "metadata": {},
   "source": [
    "##### **This study mainly targets the [(EEA)](https://www.efta.int/eea) member countries:**"
   ]
  },
  {
   "cell_type": "markdown",
   "metadata": {},
   "source": [
    "- Austria  \n",
    "- Belgium  \n",
    "- Bulgaria  \n",
    "- Croatia  \n",
    "- Cyprus  \n",
    "- Czechia  \n",
    "- Denmark  \n",
    "- Estonia  \n",
    "- Finland  \n",
    "- France  \n",
    "- Germany  \n",
    "- Greece  \n",
    "- Hungary  \n",
    "- Iceland  \n",
    "- Ireland  \n",
    "- Italy  \n",
    "- Latvia  \n",
    "- Liechtenstein  \n",
    "- Lithuania  \n",
    "- Luxembourg  \n",
    "- Malta  \n",
    "- Netherlands  \n",
    "- Norway  \n",
    "- Poland  \n",
    "- Portugal  \n",
    "- Romania  \n",
    "- Slovakia  \n",
    "- Slovenia  \n",
    "- Spain  \n",
    "- Sweden\n"
   ]
  }
 ],
 "metadata": {
  "language_info": {
   "name": "python"
  }
 },
 "nbformat": 4,
 "nbformat_minor": 2
}
